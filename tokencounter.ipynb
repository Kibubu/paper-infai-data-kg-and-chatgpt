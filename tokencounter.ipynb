{
 "cells": [
  {
   "cell_type": "code",
   "execution_count": 37,
   "id": "bb0b5b03-528d-471d-ada6-9d18bc701130",
   "metadata": {
    "tags": []
   },
   "outputs": [
    {
     "name": "stdout",
     "output_type": "stream",
     "text": [
      "Requirement already satisfied: tiktoken in ./lib/python3.10/site-packages (0.3.3)\n",
      "Requirement already satisfied: regex>=2022.1.18 in ./lib/python3.10/site-packages (from tiktoken) (2023.3.23)\n",
      "Requirement already satisfied: requests>=2.26.0 in ./lib/python3.10/site-packages (from tiktoken) (2.28.2)\n",
      "Requirement already satisfied: urllib3<1.27,>=1.21.1 in ./lib/python3.10/site-packages (from requests>=2.26.0->tiktoken) (1.26.15)\n",
      "Requirement already satisfied: idna<4,>=2.5 in ./lib/python3.10/site-packages (from requests>=2.26.0->tiktoken) (3.4)\n",
      "Requirement already satisfied: charset-normalizer<4,>=2 in ./lib/python3.10/site-packages (from requests>=2.26.0->tiktoken) (3.1.0)\n",
      "Requirement already satisfied: certifi>=2017.4.17 in ./lib/python3.10/site-packages (from requests>=2.26.0->tiktoken) (2022.12.7)\n"
     ]
    }
   ],
   "source": [
    "!pip install tiktoken"
   ]
  },
  {
   "cell_type": "code",
   "execution_count": 38,
   "id": "f2b8ea09-cbb4-420e-b539-b4c58498a8bd",
   "metadata": {
    "tags": []
   },
   "outputs": [],
   "source": [
    "import tiktoken\n",
    "from glob import glob"
   ]
  },
  {
   "cell_type": "code",
   "execution_count": 39,
   "id": "8a03c719-7af7-4f32-9830-937e77fb409e",
   "metadata": {
    "tags": []
   },
   "outputs": [],
   "source": [
    "encodings = [\"r50k_base\", \"p50k_base\", \"cl100k_base\"]"
   ]
  },
  {
   "cell_type": "code",
   "execution_count": 40,
   "id": "653e20f7-fdce-4b83-9574-545007bc1a32",
   "metadata": {
    "tags": []
   },
   "outputs": [],
   "source": [
    "# encoding = tiktoken.get_encoding(\"cl100k_base\")\n",
    "# encoding = tiktoken.encoding_for_model(\"gpt-3.5-turbo\")"
   ]
  },
  {
   "cell_type": "code",
   "execution_count": 41,
   "id": "bcff051c-445a-428f-b9b5-a691c563228b",
   "metadata": {
    "tags": []
   },
   "outputs": [],
   "source": [
    "ontologies = glob(\"Ontologies/*/*\")"
   ]
  },
  {
   "cell_type": "code",
   "execution_count": 42,
   "id": "d181a3fe-dada-44bf-818f-a5e94f373914",
   "metadata": {
    "tags": []
   },
   "outputs": [
    {
     "name": "stdout",
     "output_type": "stream",
     "text": [
      "\"encoding\";\t\"ontology\";\t\"serialization\";\t\"tokens\"\n",
      "\"r50k_base\";\t\"Mondial\";\t\"n3\";\t\"7091\"\n",
      "\"p50k_base\";\t\"Mondial\";\t\"n3\";\t\"6493\"\n",
      "\"cl100k_base\";\t\"Mondial\";\t\"n3\";\t\"5369\"\n",
      "\"r50k_base\";\t\"Mondial\";\t\"rdf\";\t\"25460\"\n",
      "\"p50k_base\";\t\"Mondial\";\t\"rdf\";\t\"21126\"\n",
      "\"cl100k_base\";\t\"Mondial\";\t\"rdf\";\t\"17179\"\n",
      "\"r50k_base\";\t\"Mondial\";\t\"nt\";\t\"46585\"\n",
      "\"p50k_base\";\t\"Mondial\";\t\"nt\";\t\"46585\"\n",
      "\"cl100k_base\";\t\"Mondial\";\t\"nt\";\t\"38758\"\n",
      "\"r50k_base\";\t\"Mondial\";\t\"jsonld\";\t\"79929\"\n",
      "\"p50k_base\";\t\"Mondial\";\t\"jsonld\";\t\"57451\"\n",
      "\"cl100k_base\";\t\"Mondial\";\t\"jsonld\";\t\"47229\"\n",
      "\"r50k_base\";\t\"Mondial\";\t\"ttl\";\t\"9428\"\n",
      "\"p50k_base\";\t\"Mondial\";\t\"ttl\";\t\"6594\"\n",
      "\"cl100k_base\";\t\"Mondial\";\t\"ttl\";\t\"5339\"\n",
      "\"r50k_base\";\t\"Pizza\";\t\"owl\";\t\"32360\"\n",
      "\"p50k_base\";\t\"Pizza\";\t\"owl\";\t\"24684\"\n",
      "\"cl100k_base\";\t\"Pizza\";\t\"owl\";\t\"19738\"\n",
      "\"r50k_base\";\t\"Pizza\";\t\"ttl\";\t\"9456\"\n",
      "\"p50k_base\";\t\"Pizza\";\t\"ttl\";\t\"6522\"\n",
      "\"cl100k_base\";\t\"Pizza\";\t\"ttl\";\t\"5431\"\n",
      "\"r50k_base\";\t\"Pizza\";\t\"nt\";\t\"41287\"\n",
      "\"p50k_base\";\t\"Pizza\";\t\"nt\";\t\"41287\"\n",
      "\"cl100k_base\";\t\"Pizza\";\t\"nt\";\t\"34064\"\n",
      "\"r50k_base\";\t\"Pizza\";\t\"jsonld\";\t\"68909\"\n",
      "\"p50k_base\";\t\"Pizza\";\t\"jsonld\";\t\"50487\"\n",
      "\"cl100k_base\";\t\"Pizza\";\t\"jsonld\";\t\"41347\"\n",
      "\"r50k_base\";\t\"Pizza\";\t\"rdf\";\t\"45602\"\n",
      "\"p50k_base\";\t\"Pizza\";\t\"rdf\";\t\"44360\"\n",
      "\"cl100k_base\";\t\"Pizza\";\t\"rdf\";\t\"35331\"\n",
      "\"r50k_base\";\t\"Wine\";\t\"rdf\";\t\"36358\"\n",
      "\"p50k_base\";\t\"Wine\";\t\"rdf\";\t\"28915\"\n",
      "\"cl100k_base\";\t\"Wine\";\t\"rdf\";\t\"24217\"\n",
      "\"r50k_base\";\t\"Wine\";\t\"jsonld\";\t\"206652\"\n",
      "\"p50k_base\";\t\"Wine\";\t\"jsonld\";\t\"152036\"\n",
      "\"cl100k_base\";\t\"Wine\";\t\"jsonld\";\t\"127765\"\n",
      "\"r50k_base\";\t\"Wine\";\t\"nt\";\t\"132042\"\n",
      "\"p50k_base\";\t\"Wine\";\t\"nt\";\t\"132032\"\n",
      "\"cl100k_base\";\t\"Wine\";\t\"nt\";\t\"113534\"\n",
      "\"r50k_base\";\t\"Wine\";\t\"ttl\";\t\"24391\"\n",
      "\"p50k_base\";\t\"Wine\";\t\"ttl\";\t\"16223\"\n",
      "\"cl100k_base\";\t\"Wine\";\t\"ttl\";\t\"13591\"\n",
      "\"r50k_base\";\t\"Dbpedia\";\t\"ttl\";\t\"638230\"\n",
      "\"p50k_base\";\t\"Dbpedia\";\t\"ttl\";\t\"596612\"\n",
      "\"cl100k_base\";\t\"Dbpedia\";\t\"ttl\";\t\"471251\"\n",
      "\"r50k_base\";\t\"Dbpedia\";\t\"nt\";\t\"2192842\"\n",
      "\"p50k_base\";\t\"Dbpedia\";\t\"nt\";\t\"2192762\"\n",
      "\"cl100k_base\";\t\"Dbpedia\";\t\"nt\";\t\"1780799\"\n",
      "\"r50k_base\";\t\"Dbpedia\";\t\"owl\";\t\"2315933\"\n",
      "\"p50k_base\";\t\"Dbpedia\";\t\"owl\";\t\"2246881\"\n",
      "\"cl100k_base\";\t\"Dbpedia\";\t\"owl\";\t\"1806764\"\n",
      "\"r50k_base\";\t\"Dbpedia\";\t\"jsonld\";\t\"3291101\"\n",
      "\"p50k_base\";\t\"Dbpedia\";\t\"jsonld\";\t\"2228468\"\n",
      "\"cl100k_base\";\t\"Dbpedia\";\t\"jsonld\";\t\"1791533\"\n",
      "\"r50k_base\";\t\"Dbpedia\";\t\"rdf\";\t\"3006563\"\n",
      "\"p50k_base\";\t\"Dbpedia\";\t\"rdf\";\t\"2937511\"\n",
      "\"cl100k_base\";\t\"Dbpedia\";\t\"rdf\";\t\"2338484\"\n",
      "\"r50k_base\";\t\"Coypu\";\t\"ttl\";\t\"37658\"\n",
      "\"p50k_base\";\t\"Coypu\";\t\"ttl\";\t\"22583\"\n",
      "\"cl100k_base\";\t\"Coypu\";\t\"ttl\";\t\"17770\"\n",
      "\"r50k_base\";\t\"Coypu\";\t\"nt\";\t\"70380\"\n",
      "\"p50k_base\";\t\"Coypu\";\t\"nt\";\t\"70368\"\n",
      "\"cl100k_base\";\t\"Coypu\";\t\"nt\";\t\"55956\"\n",
      "\"r50k_base\";\t\"Coypu\";\t\"rdf\";\t\"46689\"\n",
      "\"p50k_base\";\t\"Coypu\";\t\"rdf\";\t\"38910\"\n",
      "\"cl100k_base\";\t\"Coypu\";\t\"rdf\";\t\"31270\"\n",
      "\"r50k_base\";\t\"Coypu\";\t\"jsonld\";\t\"59103\"\n",
      "\"p50k_base\";\t\"Coypu\";\t\"jsonld\";\t\"56739\"\n",
      "\"cl100k_base\";\t\"Coypu\";\t\"jsonld\";\t\"46729\"\n"
     ]
    }
   ],
   "source": [
    "print('\"encoding\";\\t\"ontology\";\\t\"serialization\";\\t\"tokens\"')\n",
    "for ontology in ontologies:\n",
    "    for encoding in encodings:\n",
    "        encoding = tiktoken.get_encoding(encoding)\n",
    "        with open(ontology) as f:\n",
    "            print(f\"\\\"{encoding.name}\\\";\\t\\\"{ontology.split('/')[1]}\\\";\\t\\\"{ontology.split('.')[-1]}\\\";\\t\\\"{len(encoding.encode(f.read()))}\\\"\")\n",
    "    "
   ]
  },
  {
   "cell_type": "code",
   "execution_count": 7,
   "id": "b6498534-1bad-4a75-98f6-a5998dfc45fd",
   "metadata": {},
   "outputs": [
    {
     "data": {
      "text/plain": [
       "'cl100k_base'"
      ]
     },
     "execution_count": 7,
     "metadata": {},
     "output_type": "execute_result"
    }
   ],
   "source": []
  },
  {
   "cell_type": "code",
   "execution_count": null,
   "id": "f780d924-c3ec-48c0-864d-2a536b1959ec",
   "metadata": {},
   "outputs": [],
   "source": []
  }
 ],
 "metadata": {
  "kernelspec": {
   "display_name": "venv-paper-chatgpt-kg",
   "language": "python",
   "name": "venv-paper-chatgpt-kg"
  },
  "language_info": {
   "codemirror_mode": {
    "name": "ipython",
    "version": 3
   },
   "file_extension": ".py",
   "mimetype": "text/x-python",
   "name": "python",
   "nbconvert_exporter": "python",
   "pygments_lexer": "ipython3",
   "version": "3.10.10"
  }
 },
 "nbformat": 4,
 "nbformat_minor": 5
}
